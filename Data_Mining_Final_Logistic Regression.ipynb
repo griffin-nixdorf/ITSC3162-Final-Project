{
 "cells": [
  {
   "cell_type": "markdown",
   "id": "99e9a2c07c6d195b",
   "metadata": {},
   "source": [
    "# Logistic Regression baseline\n"
   ]
  },
  {
   "metadata": {},
   "cell_type": "markdown",
   "source": [
    "## Import the tools we need\n",
    "* **pandas / numpy** – handle data tables and math\n",
    "* **scikit‑learn** – train/test split, scaling, logistic regression, and model metrics\n",
    "* **matplotlib** – make simple charts\n"
   ],
   "id": "c8e5c62609e4a18b"
  },
  {
   "cell_type": "code",
   "id": "initial_id",
   "metadata": {
    "collapsed": true,
    "jupyter": {
     "outputs_hidden": true
    },
    "ExecuteTime": {
     "end_time": "2025-05-04T00:00:48.244037Z",
     "start_time": "2025-05-04T00:00:48.201369Z"
    }
   },
   "source": [
    "# import basic data tools and the ML functions we need\n",
    "import pandas as pd\n",
    "import numpy as np\n",
    "\n",
    "from sklearn.model_selection import train_test_split, GridSearchCV\n",
    "from sklearn.preprocessing import StandardScaler\n",
    "from sklearn.linear_model import LogisticRegression\n",
    "from sklearn.pipeline import Pipeline\n",
    "from sklearn.metrics import (\n",
    "    accuracy_score, precision_score, recall_score,\n",
    "    f1_score, confusion_matrix, ConfusionMatrixDisplay\n",
    ")\n",
    "import matplotlib.pyplot as plt\n"
   ],
   "outputs": [],
   "execution_count": 82
  },
  {
   "metadata": {},
   "cell_type": "markdown",
   "source": "## Load Griffin's cleaned data",
   "id": "5c79e8d43fa52c78"
  },
  {
   "cell_type": "code",
   "id": "bb84a4efe6a9ec8d",
   "metadata": {
    "ExecuteTime": {
     "end_time": "2025-05-04T00:00:48.366482Z",
     "start_time": "2025-05-04T00:00:48.254855Z"
    }
   },
   "source": [
    "# read Griffin's cleaned CSV\n",
    "df = pd.read_csv(\"data/spotify_80s_clean.csv\")  # dropped `track`, `artist`, and `uri`\n",
    "df"
   ],
   "outputs": [
    {
     "data": {
      "text/plain": [
       "      danceability  energy  key  loudness  mode  speechiness  acousticness  \\\n",
       "0            0.509   0.277    6   -14.323     1       0.0495      0.827000   \n",
       "1            0.716   0.753    2    -5.682     1       0.0286      0.162000   \n",
       "2            0.360   0.542    5   -13.885     1       0.0339      0.368000   \n",
       "3            0.656   0.512    7   -11.872     1       0.0290      0.585000   \n",
       "4            0.642   0.889    2    -5.620     0       0.0494      0.375000   \n",
       "...            ...     ...  ...       ...   ...          ...           ...   \n",
       "6903         0.443   0.589    7    -8.085     1       0.0392      0.552000   \n",
       "6904         0.208   0.750    9   -12.945     1       0.1080      0.000134   \n",
       "6905         0.739   0.729    4    -9.694     0       0.0572      0.249000   \n",
       "6906         0.749   0.626    0   -12.426     1       0.0393      0.011500   \n",
       "6907         0.660   0.897    5    -5.558     1       0.0257      0.003160   \n",
       "\n",
       "      instrumentalness  liveness  valence    tempo  duration_ms  \\\n",
       "0             0.002060    0.0756    0.640  101.157       161893   \n",
       "1             0.030600    0.0831    0.561  120.141       222000   \n",
       "2             0.165000    0.1160    0.803  116.831       444907   \n",
       "3             0.000000    0.0720    0.880   97.500       157893   \n",
       "4             0.000000    0.1800    0.764  163.351       162293   \n",
       "...                ...       ...      ...      ...          ...   \n",
       "6903          0.000000    0.1410    0.963   97.401       384360   \n",
       "6904          0.000002    0.0621    0.394   83.467       154827   \n",
       "6905          0.007680    0.0690    0.884  103.339       375652   \n",
       "6906          0.567000    0.0558    0.770  142.565       366133   \n",
       "6907          0.000023    0.1160    0.670  111.193       219133   \n",
       "\n",
       "      time_signature  chorus_hit  sections  target  \n",
       "0                  4    68.46530         7       0  \n",
       "1                  4    57.71583        11       1  \n",
       "2                  4    30.34574        17       0  \n",
       "3                  3    50.97022         7       0  \n",
       "4                  4    33.62053         7       1  \n",
       "...              ...         ...       ...     ...  \n",
       "6903               4    31.61135        23       0  \n",
       "6904               4    23.71780         8       0  \n",
       "6905               4    31.31730        13       1  \n",
       "6906               4    27.71571        18       1  \n",
       "6907               4    51.40399         9       1  \n",
       "\n",
       "[6908 rows x 16 columns]"
      ],
      "text/html": [
       "<div>\n",
       "<style scoped>\n",
       "    .dataframe tbody tr th:only-of-type {\n",
       "        vertical-align: middle;\n",
       "    }\n",
       "\n",
       "    .dataframe tbody tr th {\n",
       "        vertical-align: top;\n",
       "    }\n",
       "\n",
       "    .dataframe thead th {\n",
       "        text-align: right;\n",
       "    }\n",
       "</style>\n",
       "<table border=\"1\" class=\"dataframe\">\n",
       "  <thead>\n",
       "    <tr style=\"text-align: right;\">\n",
       "      <th></th>\n",
       "      <th>danceability</th>\n",
       "      <th>energy</th>\n",
       "      <th>key</th>\n",
       "      <th>loudness</th>\n",
       "      <th>mode</th>\n",
       "      <th>speechiness</th>\n",
       "      <th>acousticness</th>\n",
       "      <th>instrumentalness</th>\n",
       "      <th>liveness</th>\n",
       "      <th>valence</th>\n",
       "      <th>tempo</th>\n",
       "      <th>duration_ms</th>\n",
       "      <th>time_signature</th>\n",
       "      <th>chorus_hit</th>\n",
       "      <th>sections</th>\n",
       "      <th>target</th>\n",
       "    </tr>\n",
       "  </thead>\n",
       "  <tbody>\n",
       "    <tr>\n",
       "      <th>0</th>\n",
       "      <td>0.509</td>\n",
       "      <td>0.277</td>\n",
       "      <td>6</td>\n",
       "      <td>-14.323</td>\n",
       "      <td>1</td>\n",
       "      <td>0.0495</td>\n",
       "      <td>0.827000</td>\n",
       "      <td>0.002060</td>\n",
       "      <td>0.0756</td>\n",
       "      <td>0.640</td>\n",
       "      <td>101.157</td>\n",
       "      <td>161893</td>\n",
       "      <td>4</td>\n",
       "      <td>68.46530</td>\n",
       "      <td>7</td>\n",
       "      <td>0</td>\n",
       "    </tr>\n",
       "    <tr>\n",
       "      <th>1</th>\n",
       "      <td>0.716</td>\n",
       "      <td>0.753</td>\n",
       "      <td>2</td>\n",
       "      <td>-5.682</td>\n",
       "      <td>1</td>\n",
       "      <td>0.0286</td>\n",
       "      <td>0.162000</td>\n",
       "      <td>0.030600</td>\n",
       "      <td>0.0831</td>\n",
       "      <td>0.561</td>\n",
       "      <td>120.141</td>\n",
       "      <td>222000</td>\n",
       "      <td>4</td>\n",
       "      <td>57.71583</td>\n",
       "      <td>11</td>\n",
       "      <td>1</td>\n",
       "    </tr>\n",
       "    <tr>\n",
       "      <th>2</th>\n",
       "      <td>0.360</td>\n",
       "      <td>0.542</td>\n",
       "      <td>5</td>\n",
       "      <td>-13.885</td>\n",
       "      <td>1</td>\n",
       "      <td>0.0339</td>\n",
       "      <td>0.368000</td>\n",
       "      <td>0.165000</td>\n",
       "      <td>0.1160</td>\n",
       "      <td>0.803</td>\n",
       "      <td>116.831</td>\n",
       "      <td>444907</td>\n",
       "      <td>4</td>\n",
       "      <td>30.34574</td>\n",
       "      <td>17</td>\n",
       "      <td>0</td>\n",
       "    </tr>\n",
       "    <tr>\n",
       "      <th>3</th>\n",
       "      <td>0.656</td>\n",
       "      <td>0.512</td>\n",
       "      <td>7</td>\n",
       "      <td>-11.872</td>\n",
       "      <td>1</td>\n",
       "      <td>0.0290</td>\n",
       "      <td>0.585000</td>\n",
       "      <td>0.000000</td>\n",
       "      <td>0.0720</td>\n",
       "      <td>0.880</td>\n",
       "      <td>97.500</td>\n",
       "      <td>157893</td>\n",
       "      <td>3</td>\n",
       "      <td>50.97022</td>\n",
       "      <td>7</td>\n",
       "      <td>0</td>\n",
       "    </tr>\n",
       "    <tr>\n",
       "      <th>4</th>\n",
       "      <td>0.642</td>\n",
       "      <td>0.889</td>\n",
       "      <td>2</td>\n",
       "      <td>-5.620</td>\n",
       "      <td>0</td>\n",
       "      <td>0.0494</td>\n",
       "      <td>0.375000</td>\n",
       "      <td>0.000000</td>\n",
       "      <td>0.1800</td>\n",
       "      <td>0.764</td>\n",
       "      <td>163.351</td>\n",
       "      <td>162293</td>\n",
       "      <td>4</td>\n",
       "      <td>33.62053</td>\n",
       "      <td>7</td>\n",
       "      <td>1</td>\n",
       "    </tr>\n",
       "    <tr>\n",
       "      <th>...</th>\n",
       "      <td>...</td>\n",
       "      <td>...</td>\n",
       "      <td>...</td>\n",
       "      <td>...</td>\n",
       "      <td>...</td>\n",
       "      <td>...</td>\n",
       "      <td>...</td>\n",
       "      <td>...</td>\n",
       "      <td>...</td>\n",
       "      <td>...</td>\n",
       "      <td>...</td>\n",
       "      <td>...</td>\n",
       "      <td>...</td>\n",
       "      <td>...</td>\n",
       "      <td>...</td>\n",
       "      <td>...</td>\n",
       "    </tr>\n",
       "    <tr>\n",
       "      <th>6903</th>\n",
       "      <td>0.443</td>\n",
       "      <td>0.589</td>\n",
       "      <td>7</td>\n",
       "      <td>-8.085</td>\n",
       "      <td>1</td>\n",
       "      <td>0.0392</td>\n",
       "      <td>0.552000</td>\n",
       "      <td>0.000000</td>\n",
       "      <td>0.1410</td>\n",
       "      <td>0.963</td>\n",
       "      <td>97.401</td>\n",
       "      <td>384360</td>\n",
       "      <td>4</td>\n",
       "      <td>31.61135</td>\n",
       "      <td>23</td>\n",
       "      <td>0</td>\n",
       "    </tr>\n",
       "    <tr>\n",
       "      <th>6904</th>\n",
       "      <td>0.208</td>\n",
       "      <td>0.750</td>\n",
       "      <td>9</td>\n",
       "      <td>-12.945</td>\n",
       "      <td>1</td>\n",
       "      <td>0.1080</td>\n",
       "      <td>0.000134</td>\n",
       "      <td>0.000002</td>\n",
       "      <td>0.0621</td>\n",
       "      <td>0.394</td>\n",
       "      <td>83.467</td>\n",
       "      <td>154827</td>\n",
       "      <td>4</td>\n",
       "      <td>23.71780</td>\n",
       "      <td>8</td>\n",
       "      <td>0</td>\n",
       "    </tr>\n",
       "    <tr>\n",
       "      <th>6905</th>\n",
       "      <td>0.739</td>\n",
       "      <td>0.729</td>\n",
       "      <td>4</td>\n",
       "      <td>-9.694</td>\n",
       "      <td>0</td>\n",
       "      <td>0.0572</td>\n",
       "      <td>0.249000</td>\n",
       "      <td>0.007680</td>\n",
       "      <td>0.0690</td>\n",
       "      <td>0.884</td>\n",
       "      <td>103.339</td>\n",
       "      <td>375652</td>\n",
       "      <td>4</td>\n",
       "      <td>31.31730</td>\n",
       "      <td>13</td>\n",
       "      <td>1</td>\n",
       "    </tr>\n",
       "    <tr>\n",
       "      <th>6906</th>\n",
       "      <td>0.749</td>\n",
       "      <td>0.626</td>\n",
       "      <td>0</td>\n",
       "      <td>-12.426</td>\n",
       "      <td>1</td>\n",
       "      <td>0.0393</td>\n",
       "      <td>0.011500</td>\n",
       "      <td>0.567000</td>\n",
       "      <td>0.0558</td>\n",
       "      <td>0.770</td>\n",
       "      <td>142.565</td>\n",
       "      <td>366133</td>\n",
       "      <td>4</td>\n",
       "      <td>27.71571</td>\n",
       "      <td>18</td>\n",
       "      <td>1</td>\n",
       "    </tr>\n",
       "    <tr>\n",
       "      <th>6907</th>\n",
       "      <td>0.660</td>\n",
       "      <td>0.897</td>\n",
       "      <td>5</td>\n",
       "      <td>-5.558</td>\n",
       "      <td>1</td>\n",
       "      <td>0.0257</td>\n",
       "      <td>0.003160</td>\n",
       "      <td>0.000023</td>\n",
       "      <td>0.1160</td>\n",
       "      <td>0.670</td>\n",
       "      <td>111.193</td>\n",
       "      <td>219133</td>\n",
       "      <td>4</td>\n",
       "      <td>51.40399</td>\n",
       "      <td>9</td>\n",
       "      <td>1</td>\n",
       "    </tr>\n",
       "  </tbody>\n",
       "</table>\n",
       "<p>6908 rows × 16 columns</p>\n",
       "</div>"
      ]
     },
     "execution_count": 83,
     "metadata": {},
     "output_type": "execute_result"
    }
   ],
   "execution_count": 83
  },
  {
   "metadata": {},
   "cell_type": "markdown",
   "source": [
    "##   Split features ( X ) and label ( y )\n",
    "* **X** = audio numbers we will feed into the model\n",
    "* **y** = `target` column (1 = hit, 0 = flop)"
   ],
   "id": "580f6be31f35747b"
  },
  {
   "cell_type": "code",
   "id": "aff323483af9ed0a",
   "metadata": {
    "ExecuteTime": {
     "end_time": "2025-05-04T00:00:48.517506Z",
     "start_time": "2025-05-04T00:00:48.486917Z"
    }
   },
   "source": [
    "# separate inputs (X) from the answer we want to predict (y)\n",
    "X = df.drop(columns=[\"target\"])\n",
    "y = df[\"target\"]\n",
    "\n",
    "X_train, X_test, y_train, y_test = train_test_split(\n",
    "    X, y, test_size=0.25, stratify=y, random_state=42\n",
    ")\n"
   ],
   "outputs": [],
   "execution_count": 84
  },
  {
   "metadata": {},
   "cell_type": "markdown",
   "source": [
    "##### Create train and test sets\n",
    "We keep 75% of the songs for training and 25 % for testing.\n",
    "`stratify=y` keeps the hit/flop ratio the same in both sets.\n",
    "`random_state=42` makes the split reproducible."
   ],
   "id": "b0876f74b9e0df8e"
  },
  {
   "metadata": {},
   "cell_type": "markdown",
   "source": [
    "##   Build a modeling pipeline\n",
    "1. **StandardScaler** – puts every feature on the same scale (mean 0, std 1).\n",
    "2. **LogisticRegression** – learns weights that turn features into a hit‑probability.\n",
    "`class_weight=\"balanced\"` tells the model to treat hits and flops equally even if counts differ."
   ],
   "id": "2f433db435baaf3b"
  },
  {
   "cell_type": "code",
   "id": "e5be7fe9a9ebf6a7",
   "metadata": {
    "ExecuteTime": {
     "end_time": "2025-05-04T00:00:48.590509Z",
     "start_time": "2025-05-04T00:00:48.582165Z"
    }
   },
   "source": [
    "# pipeline = scale data  ➜  run logistic regression\n",
    "logreg_pipe = Pipeline([\n",
    "    (\"scaler\", StandardScaler()),\n",
    "    (\"clf\", LogisticRegression(max_iter=1000, class_weight=\"balanced\"))\n",
    "])"
   ],
   "outputs": [],
   "execution_count": 85
  },
  {
   "metadata": {},
   "cell_type": "markdown",
   "source": [
    "##   Train the model\n",
    "The model looks at the training songs and learns which features push a track toward “hit” or “flop.”"
   ],
   "id": "45e1bc6e27ef0137"
  },
  {
   "cell_type": "code",
   "id": "a9affb9b64211f34",
   "metadata": {
    "ExecuteTime": {
     "end_time": "2025-05-04T00:00:48.776767Z",
     "start_time": "2025-05-04T00:00:48.726826Z"
    }
   },
   "source": [
    "# train the model on the training data\n",
    "model = logreg_pipe.fit(X_train, y_train)"
   ],
   "outputs": [],
   "execution_count": 86
  },
  {
   "metadata": {},
   "cell_type": "markdown",
   "source": [
    "##   Check how well the model works on new (test) songs\n",
    "We print four common scores and draw a confusion matrix.\n",
    "Higher **F1** means better balance between precision and recall."
   ],
   "id": "e5d31759d11bca90"
  },
  {
   "metadata": {
    "ExecuteTime": {
     "end_time": "2025-05-04T00:00:49.026697Z",
     "start_time": "2025-05-04T00:00:48.786966Z"
    }
   },
   "cell_type": "code",
   "source": [
    "y_pred = model.predict(X_test)\n",
    "\n",
    "print(f\"Accuracy : {accuracy_score(y_test, y_pred):.3f}\")\n",
    "print(f\"Precision: {precision_score(y_test, y_pred):.3f}\")\n",
    "print(f\"Recall   : {recall_score(y_test, y_pred):.3f}\")\n",
    "print(f\"F1 Score : {f1_score(y_test, y_pred):.3f}\")\n",
    "\n",
    "cm = confusion_matrix(y_test, y_pred, labels=[1,0])\n",
    "ConfusionMatrixDisplay(confusion_matrix=cm,\n",
    "                       display_labels=[\"Hit\",\"Flop\"]).plot(cmap=\"Blues\")\n",
    "plt.title(\"Logistic Regression – Confusion Matrix\")\n",
    "plt.show()"
   ],
   "id": "3c88b831cad639d8",
   "outputs": [
    {
     "name": "stdout",
     "output_type": "stream",
     "text": [
      "Accuracy : 0.760\n",
      "Precision: 0.723\n",
      "Recall   : 0.841\n",
      "F1 Score : 0.778\n"
     ]
    },
    {
     "data": {
      "text/plain": [
       "<Figure size 640x480 with 2 Axes>"
      ],
      "image/png": "[encoded data removed]"
     },
     "metadata": {},
     "output_type": "display_data"
    }
   ],
   "execution_count": 87
  },
  {
   "metadata": {},
   "cell_type": "markdown",
   "source": [
    "### What those counts tell us\n",
    "* Hits the model got right: 726 songs that really were hits were labeled “Hit.” Good—these boost recall.\n",
    "\n",
    "* Hits it missed: 137 real hits were called “Flop.” These hurt recall; about 16 % of hits are still slipping through.\n",
    "\n",
    "* False alarms: 278 flops were predicted as hits. These lower precision; listeners would get some “flops” in a recommended‑hits list.\n",
    "\n",
    "* Flops correctly rejected: 586 flops were labeled “Flop.” Good—these keep the recommendations cleaner."
   ],
   "id": "a43250266ec7f86a"
  },
  {
   "metadata": {},
   "cell_type": "markdown",
   "source": [
    "## Find the most influential audio features\n",
    "Positive weight  →  pushes a song toward **hit**.\n",
    "Negative weight  →  pushes a song toward **flop**."
   ],
   "id": "6918d4d2591cb506"
  },
  {
   "cell_type": "code",
   "id": "24a5a0a13e3c7b5b",
   "metadata": {
    "ExecuteTime": {
     "end_time": "2025-05-04T00:00:49.074877Z",
     "start_time": "2025-05-04T00:00:49.067038Z"
    }
   },
   "source": [
    "# turn coefficient array into a neat table\n",
    "coefs = pd.Series(\n",
    "    model.named_steps[\"clf\"].coef_[0],\n",
    "    index=X.columns\n",
    ").sort_values(key=np.abs, ascending=False)\n",
    "\n",
    "print(\"Top 10 most influential features:\")\n",
    "for feat, weight in coefs.head(10).items():\n",
    "    direction = \"↑ hit‑probability\" if weight > 0 else \"↓ hit‑probability\"\n",
    "    print(f\"{feat:<20s} {weight:>8.3f}   {direction}\")"
   ],
   "outputs": [
    {
     "name": "stdout",
     "output_type": "stream",
     "text": [
      "Top 10 most influential features:\n",
      "instrumentalness       -1.240   ↓ hit‑probability\n",
      "speechiness            -0.978   ↓ hit‑probability\n",
      "danceability            0.828   ↑ hit‑probability\n",
      "acousticness           -0.642   ↓ hit‑probability\n",
      "loudness                0.496   ↑ hit‑probability\n",
      "duration_ms             0.256   ↑ hit‑probability\n",
      "energy                 -0.207   ↓ hit‑probability\n",
      "tempo                   0.184   ↑ hit‑probability\n",
      "sections               -0.179   ↓ hit‑probability\n",
      "liveness               -0.164   ↓ hit‑probability\n"
     ]
    }
   ],
   "execution_count": 88
  },
  {
   "metadata": {},
   "cell_type": "markdown",
   "source": [
    "**How to read this**\n",
    "\n",
    "* A **positive weight** means the feature raises the song’s hit probability.\n",
    "  *Example: higher **danceability** and **loudness** push a track toward “Hit.”*\n",
    "\n",
    "* A **negative weight** means the feature lowers the hit probability.\n",
    "  *Example: songs that are highly **instrumental** or heavy on **speech** lean “Flop.”*\n",
    "\n",
    "* The **bigger the absolute value**, the stronger the influence.\n",
    "  *Instrumentalness (‑1.24) has the strongest single impact in this model.*"
   ],
   "id": "8926ab5e0f2def49"
  },
  {
   "cell_type": "code",
   "id": "2ea6c6b8ad89da23",
   "metadata": {
    "ExecuteTime": {
     "end_time": "2025-05-04T00:00:49.170709Z",
     "start_time": "2025-05-04T00:00:49.156499Z"
    }
   },
   "source": [
    "top10_df = coefs.head(10).reset_index()\n",
    "top10_df.columns = [\"feature\", \"coefficient\"]\n",
    "try:\n",
    "    display(top10_df)          # interactive table\n",
    "except Exception:\n",
    "    print(top10_df.to_string()) # plain text fallback\n"
   ],
   "outputs": [
    {
     "data": {
      "text/plain": [
       "            feature  coefficient\n",
       "0  instrumentalness    -1.240171\n",
       "1       speechiness    -0.978266\n",
       "2      danceability     0.828222\n",
       "3      acousticness    -0.642057\n",
       "4          loudness     0.496035\n",
       "5       duration_ms     0.256174\n",
       "6            energy    -0.206789\n",
       "7             tempo     0.183667\n",
       "8          sections    -0.178514\n",
       "9          liveness    -0.164066"
      ],
      "text/html": [
       "<div>\n",
       "<style scoped>\n",
       "    .dataframe tbody tr th:only-of-type {\n",
       "        vertical-align: middle;\n",
       "    }\n",
       "\n",
       "    .dataframe tbody tr th {\n",
       "        vertical-align: top;\n",
       "    }\n",
       "\n",
       "    .dataframe thead th {\n",
       "        text-align: right;\n",
       "    }\n",
       "</style>\n",
       "<table border=\"1\" class=\"dataframe\">\n",
       "  <thead>\n",
       "    <tr style=\"text-align: right;\">\n",
       "      <th></th>\n",
       "      <th>feature</th>\n",
       "      <th>coefficient</th>\n",
       "    </tr>\n",
       "  </thead>\n",
       "  <tbody>\n",
       "    <tr>\n",
       "      <th>0</th>\n",
       "      <td>instrumentalness</td>\n",
       "      <td>-1.240171</td>\n",
       "    </tr>\n",
       "    <tr>\n",
       "      <th>1</th>\n",
       "      <td>speechiness</td>\n",
       "      <td>-0.978266</td>\n",
       "    </tr>\n",
       "    <tr>\n",
       "      <th>2</th>\n",
       "      <td>danceability</td>\n",
       "      <td>0.828222</td>\n",
       "    </tr>\n",
       "    <tr>\n",
       "      <th>3</th>\n",
       "      <td>acousticness</td>\n",
       "      <td>-0.642057</td>\n",
       "    </tr>\n",
       "    <tr>\n",
       "      <th>4</th>\n",
       "      <td>loudness</td>\n",
       "      <td>0.496035</td>\n",
       "    </tr>\n",
       "    <tr>\n",
       "      <th>5</th>\n",
       "      <td>duration_ms</td>\n",
       "      <td>0.256174</td>\n",
       "    </tr>\n",
       "    <tr>\n",
       "      <th>6</th>\n",
       "      <td>energy</td>\n",
       "      <td>-0.206789</td>\n",
       "    </tr>\n",
       "    <tr>\n",
       "      <th>7</th>\n",
       "      <td>tempo</td>\n",
       "      <td>0.183667</td>\n",
       "    </tr>\n",
       "    <tr>\n",
       "      <th>8</th>\n",
       "      <td>sections</td>\n",
       "      <td>-0.178514</td>\n",
       "    </tr>\n",
       "    <tr>\n",
       "      <th>9</th>\n",
       "      <td>liveness</td>\n",
       "      <td>-0.164066</td>\n",
       "    </tr>\n",
       "  </tbody>\n",
       "</table>\n",
       "</div>"
      ]
     },
     "metadata": {},
     "output_type": "display_data"
    }
   ],
   "execution_count": 89
  },
  {
   "metadata": {},
   "cell_type": "markdown",
   "source": [
    "### Save the trained model and results\n",
    "\n"
   ],
   "id": "78f5ab431ba7085a"
  },
  {
   "metadata": {
    "ExecuteTime": {
     "end_time": "2025-05-04T00:00:49.241594Z",
     "start_time": "2025-05-04T00:00:49.228309Z"
    }
   },
   "cell_type": "code",
   "source": [
    "import joblib, pathlib, json\n",
    "\n",
    "pathlib.Path(\"models\").mkdir(exist_ok=True)\n",
    "joblib.dump(model, \"models/log_reg_baseline.pkl\")\n",
    "coefs.to_csv(\"models/log_reg_coefficients.csv\")"
   ],
   "id": "cc09c6da5b6222c3",
   "outputs": [],
   "execution_count": 90
  },
  {
   "metadata": {},
   "cell_type": "markdown",
   "source": "",
   "id": "3e57179d931005c8"
  }
 ],
 "metadata": {
  "kernelspec": {
   "display_name": "Python 3 (ipykernel)",
   "language": "python",
   "name": "python3"
  },
  "language_info": {
   "codemirror_mode": {
    "name": "ipython",
    "version": 3
   },
   "file_extension": ".py",
   "mimetype": "text/x-python",
   "name": "python",
   "nbconvert_exporter": "python",
   "pygments_lexer": "ipython3",
   "version": "3.12.4"
  }
 },
 "nbformat": 4,
 "nbformat_minor": 5
}
